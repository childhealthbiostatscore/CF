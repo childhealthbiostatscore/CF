{
 "cells": [
  {
   "cell_type": "code",
   "execution_count": 1,
   "id": "85fa964c-c265-4b8d-bc08-0346a4893ffd",
   "metadata": {},
   "outputs": [],
   "source": [
    "import re\n",
    "import pandas as pd\n",
    "from datetime import datetime\n",
    "wd = '/Volumes/PEDS/RI Biostatistics Core/Shared/Shared Projects/Vigers/CF/Christine Chan/Prepost Triakfta/'"
   ]
  },
  {
   "cell_type": "code",
   "execution_count": 45,
   "id": "01787282-ae74-4a77-b4a8-543ec7b9d571",
   "metadata": {},
   "outputs": [],
   "source": [
    "# CHCO data\n",
    "chco_dates = pd.read_csv(wd + 'Data_Cleaned/chco_registry.csv')\n",
    "# Fix selected dates\n",
    "chco_dates.loc[chco_dates.MRN == 1053930,'Start'] = \"12/1/2019\"\n",
    "chco_dates.loc[chco_dates.MRN == 1695512,'Start'] = \"12/12/2019\"\n",
    "chco_dates.loc[chco_dates.MRN == 815274,'Start'] = \"12/13/2019\"\n",
    "chco_dates.loc[chco_dates.MRN == 1078408,'Start'] = \"3/9/2020\"\n",
    "chco_dates.loc[chco_dates.MRN == 899717,'Start'] = \"2/14/2020\"\n",
    "# CFRD only\n",
    "chco_dates = chco_dates.loc[chco_dates['CFRD yes=1'] == 1]\n",
    "# Remove those without Trikafta date\n",
    "chco_dates.dropna(subset = ['Start'],inplace = True)\n",
    "# Add glycemic data\n",
    "chco_a1c = pd.read_csv(wd + 'Data_Cleaned/chco_glycemic.csv')\n",
    "chco = pd.merge(chco_dates,chco_a1c,on = ['MRN'],how = 'left')\n",
    "# Add PFTs\n",
    "chco_pfts = pd.read_csv(wd + 'Data_Cleaned/chco_bmi_pft.csv')\n",
    "idx = chco_pfts['MRN'].isin(chco_dates['MRN']) \n",
    "chco_pfts = chco_pfts[idx]\n",
    "chco = pd.merge(chco,chco_pfts,on = ['MRN','Date'],how = 'outer')\n",
    "# Add CGM\n",
    "chco_cgm = pd.read_csv(wd + 'Data_Cleaned/chco_cgm.csv')\n",
    "chco_cgm['CFF ID'] = [int(re.sub('_.*','',s)) for s in chco_cgm['subject_id']]\n",
    "chco_cgm['Date'] = [re.sub(' .*','',s) for s in chco_cgm['date_cgm_placement']]\n",
    "chco = pd.merge(chco,chco_cgm,on = ['CFF ID','Date'],how = 'outer')\n",
    "# Sort\n",
    "chco.sort_values(by = ['MRN','Date'],inplace = True)\n",
    "# Fill missing \n",
    "fill = ['DOB','CFF ID','Start','Sex','Race','Hispanic/Latinx','Genotypes1','Genotypes2','Pancreatic Status','CFRD Diagnosis Date']\n",
    "chco[fill] = chco.groupby('MRN')[fill].ffill()\n",
    "chco[fill] = chco.groupby('MRN')[fill].bfill()\n",
    "# Write\n",
    "chco.to_csv(wd + 'Data_Cleaned/chco_final.csv',index = False)\n"
   ]
  },
  {
   "cell_type": "code",
   "execution_count": 3,
   "id": "1eb9ffc1",
   "metadata": {},
   "outputs": [],
   "source": [
    "# Montana data\n",
    "adult_dem = pd.read_csv(wd + 'Data_Cleaned/montana_demo_adults.csv')\n",
    "peds_dem = pd.read_csv(wd + 'Data_Cleaned/montana_demo_kids.csv')\n",
    "montana = pd.concat([adult_dem,peds_dem])\n",
    "# Add CGM\n",
    "montana_cgm = pd.read_csv(wd + 'Data_Cleaned/montana_cgm.csv')\n",
    "montana_cgm['CFF ID'] = [int(re.sub('_.*','',s)) for s in montana_cgm['subject_id']]\n",
    "montana_cgm['Date'] = [re.sub(' .*','',s) for s in montana_cgm['date_cgm_placement']]\n",
    "montana = pd.merge(montana,montana_cgm,on = ['CFF ID'],how = 'outer')\n",
    "# Add A1c and OGTTs\n",
    "montana_a1c = pd.read_csv(wd + 'Data_Cleaned/montana_a1c_ogtt.csv')\n",
    "montana_a1c.dropna(subset = ['CFRD Status'],inplace = True)\n",
    "montana = pd.merge(montana,montana_a1c,on = ['CFF ID','Date'],how = 'outer')\n",
    "# Add PFTs\n",
    "montana_pfts_adult = pd.read_csv(wd + 'Data_Cleaned/montana_bmi_pft_adults.csv')\n",
    "montana_pfts_peds = pd.read_csv(wd + 'Data_Cleaned/montana_bmi_pft_kids.csv')\n",
    "montana_pfts = pd.concat([montana_pfts_adult,montana_pfts_peds])\n",
    "montana = pd.merge(montana,montana_pfts,on = ['CFF ID','Date'],how = 'outer')\n",
    "# G tube\n",
    "montana_gtube = pd.read_csv(wd + 'Data_Cleaned/montana_demo_adults.csv')\n",
    "# Sort\n",
    "montana.sort_values(by = ['CFF ID','Date'],inplace = True)\n",
    "# Fill missing \n",
    "fill = ['DOB','Start','Gender','Race','Mixed Race components','Is Patient of Hispanic Origin']\n",
    "montana[fill] = montana.groupby('CFF ID')[fill].ffill()\n",
    "montana[fill] = montana.groupby('CFF ID')[fill].bfill()\n",
    "# Write\n",
    "montana.to_csv(wd + 'Data_Cleaned/montana_final.csv',index = False)"
   ]
  },
  {
   "cell_type": "code",
   "execution_count": 23,
   "id": "ffa8adee",
   "metadata": {},
   "outputs": [],
   "source": [
    "# Washington data\n",
    "uw_dates = pd.read_csv(wd + 'Data_Cleaned/uw_trikafta_dates.csv')\n",
    "uw_dates.drop_duplicates(subset='CFF ID',inplace = True)\n",
    "# Glycemic data\n",
    "uw_a1c = pd.read_csv(wd + 'Data_Cleaned/uw_a1c_ogtt.csv')\n",
    "uw = pd.merge(uw_dates,uw_a1c,on = ['CFF ID'],how = 'outer')\n",
    "# BMI\n",
    "uw_bmi = pd.read_csv(wd + 'Data_Cleaned/uw_bmi.csv')\n",
    "uw = pd.merge(uw,uw_bmi,on = ['CFF ID','Date'],how = 'outer')\n",
    "# PFTs\n",
    "uw_pft = pd.read_csv(wd + 'Data_Cleaned/uw_pft.csv')\n",
    "uw = pd.merge(uw,uw_pft,on = ['CFF ID','Date','Patients height'],how = 'outer')\n",
    "# Demographics\n",
    "uw_dem = pd.read_csv(wd + 'Data_Cleaned/uw_demo.csv')\n",
    "uw = pd.merge(uw,uw_dem,on = ['CFF ID'],how = 'outer')\n",
    "# Write\n",
    "uw.to_csv(wd + 'Data_Cleaned/uw_final.csv',index = False)"
   ]
  }
 ],
 "metadata": {
  "kernelspec": {
   "display_name": "Python 3 (ipykernel)",
   "language": "python",
   "name": "python3"
  },
  "language_info": {
   "codemirror_mode": {
    "name": "ipython",
    "version": 3
   },
   "file_extension": ".py",
   "mimetype": "text/x-python",
   "name": "python",
   "nbconvert_exporter": "python",
   "pygments_lexer": "ipython3",
   "version": "3.8.9"
  }
 },
 "nbformat": 4,
 "nbformat_minor": 5
}
