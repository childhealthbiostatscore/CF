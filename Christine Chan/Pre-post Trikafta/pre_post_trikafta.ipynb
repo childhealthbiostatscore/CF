{
 "cells": [
  {
   "cell_type": "code",
   "execution_count": 1,
   "id": "85fa964c-c265-4b8d-bc08-0346a4893ffd",
   "metadata": {},
   "outputs": [],
   "source": [
    "import re\n",
    "import pandas as pd\n",
    "from datetime import datetime\n",
    "wd = '/Volumes/PEDS/RI Biostatistics Core/Shared/Shared Projects/Vigers/CF/Christine Chan/Prepost Triakfta/'"
   ]
  },
  {
   "cell_type": "code",
   "execution_count": 2,
   "id": "01787282-ae74-4a77-b4a8-543ec7b9d571",
   "metadata": {},
   "outputs": [],
   "source": [
    "# Import\n",
    "chco_dates = pd.read_csv(wd + 'Data_Cleaned/chco_trikafta_dates.csv')\n",
    "# Fix selected dates\n",
    "chco_dates.loc[chco_dates.MRN == 1053930,'Earliest Trikafta Date in PortCF'] = \"12/1/2019\"\n",
    "chco_dates.loc[chco_dates.MRN == 1695512,'Earliest Trikafta Date in PortCF'] = \"12/12/2019\"\n",
    "chco_dates.loc[chco_dates.MRN == 815274,'Earliest Trikafta Date in PortCF'] = \"12/13/2019\"\n",
    "chco_dates.loc[chco_dates.MRN == 1078408,'Earliest Trikafta Date in PortCF'] = \"3/9/2020\"\n",
    "chco_dates.loc[chco_dates.MRN == 899717,'Earliest Trikafta Date in PortCF'] = \"2/14/2020\"\n",
    "# CFRD only\n",
    "chco_dates = chco_dates.loc[chco_dates['CFRD yes=1'] == 1]\n",
    "# Remove those without Trikafta date\n",
    "chco_dates.dropna(subset = ['Earliest Trikafta Date in PortCF'],inplace = True)\n",
    "# Add glycemic data\n",
    "chco_a1c = pd.read_csv(wd + 'Data_Cleaned/chco_a1c_ogtt.csv')\n",
    "chco = pd.merge(chco_dates,chco_a1c,on = ['MRN'],how = 'left')\n",
    "# Add PFTs\n",
    "chco_pfts = pd.read_csv(wd + 'Data_Cleaned/chco_bmi_pft.csv')\n",
    "idx = chco_pfts['MRN'].isin(chco_dates['MRN']) \n",
    "chco_pfts = chco_pfts[idx]\n",
    "chco = pd.merge(chco,chco_pfts,on = ['MRN','Date'],how = 'outer')\n",
    "# Add CGM\n",
    "chco_cgm = pd.read_csv(wd + 'Data_Cleaned/chco_cgm.csv')\n",
    "chco_cgm['CFF ID'] = [int(re.sub('_.*','',s)) for s in chco_cgm['subject_id']]\n",
    "chco_cgm['Date'] = [re.sub(' .*','',s) for s in chco_cgm['date_cgm_placement']]\n",
    "chco = pd.merge(chco,chco_cgm,on = ['CFF ID','Date'],how = 'outer')\n",
    "# Sort\n",
    "chco.sort_values(by = ['MRN','Date'],inplace = True)\n",
    "# Fill missing \n",
    "fill = ['DOB','CFF ID','Earliest Trikafta Date in PortCF','Sex','Race','Hispanic/Latinx','Genotypes1','Genotypes2','Pancreatic Status','CFRD Diagnosis Date']\n",
    "chco[fill] = chco.groupby('MRN')[fill].ffill()\n",
    "chco[fill] = chco.groupby('MRN')[fill].bfill()\n"
   ]
  },
  {
   "cell_type": "code",
   "execution_count": 3,
   "id": "702f38b5-e4d9-4568-9ed0-c004a7f21cee",
   "metadata": {},
   "outputs": [],
   "source": [
    "chco.to_csv(\"temp.csv\",index=False)"
   ]
  },
  {
   "cell_type": "code",
   "execution_count": null,
   "id": "1eb9ffc1",
   "metadata": {},
   "outputs": [],
   "source": []
  }
 ],
 "metadata": {
  "kernelspec": {
   "display_name": "Python 3 (ipykernel)",
   "language": "python",
   "name": "python3"
  },
  "language_info": {
   "codemirror_mode": {
    "name": "ipython",
    "version": 3
   },
   "file_extension": ".py",
   "mimetype": "text/x-python",
   "name": "python",
   "nbconvert_exporter": "python",
   "pygments_lexer": "ipython3",
   "version": "3.8.9"
  }
 },
 "nbformat": 4,
 "nbformat_minor": 5
}
