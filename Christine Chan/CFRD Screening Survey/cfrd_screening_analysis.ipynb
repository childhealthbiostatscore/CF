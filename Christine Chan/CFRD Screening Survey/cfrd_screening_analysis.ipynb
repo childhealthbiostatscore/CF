{
 "cells": [
  {
   "cell_type": "markdown",
   "metadata": {},
   "source": [
    "# CFRD Screening Survey"
   ]
  },
  {
   "cell_type": "code",
   "execution_count": null,
   "metadata": {},
   "outputs": [],
   "source": [
    "import pandas as pd\n",
    "import numpy as np\n",
    "import sweetviz as sv\n",
    "from redcap import Project\n",
    "wd = '/Volumes/PEDS/RI Biostatistics Core/Shared/Shared Projects/Vigers/CF/Christine Chan/CFRD Screening/'"
   ]
  },
  {
   "cell_type": "code",
   "execution_count": null,
   "metadata": {},
   "outputs": [],
   "source": [
    "# Import data from REDCap\n",
    "api_url = 'https://www.ctrc.medsch.ucla.edu/redcap/api/'\n",
    "api_keys = pd.read_table(wd+'api.txt',header=None)\n",
    "project = Project(api_url, api_keys.iloc[0,0])\n",
    "providers = pd.DataFrame(project.export_records(raw_or_label='label'))\n",
    "project = Project(api_url, api_keys.iloc[1,0])\n",
    "endos = pd.DataFrame(project.export_records())\n",
    "# Replace \"\" with missing\n",
    "providers.replace(\"\",np.nan,inplace=True)\n",
    "endos.replace(\"\",np.nan,inplace=True)"
   ]
  },
  {
   "cell_type": "code",
   "execution_count": null,
   "metadata": {},
   "outputs": [],
   "source": [
    "# EDA\n",
    "my_report = sv.analyze(providers)\n",
    "my_report.show_html(filepath=wd + 'Reports/providers.html',open_browser=False,layout='vertical')\n",
    "my_report = sv.analyze(endos)\n",
    "my_report.show_html(filepath=wd + 'Reports/endos.html',open_browser=False,layout='vertical')"
   ]
  }
 ],
 "metadata": {
  "interpreter": {
   "hash": "b0fa6594d8f4cbf19f97940f81e996739fb7646882a419484c72d19e05852a7e"
  },
  "kernelspec": {
   "display_name": "Python 3.9.10 64-bit",
   "language": "python",
   "name": "python3"
  },
  "language_info": {
   "codemirror_mode": {
    "name": "ipython",
    "version": 3
   },
   "file_extension": ".py",
   "mimetype": "text/x-python",
   "name": "python",
   "nbconvert_exporter": "python",
   "pygments_lexer": "ipython3",
   "version": "3.9.10"
  },
  "orig_nbformat": 4
 },
 "nbformat": 4,
 "nbformat_minor": 2
}
