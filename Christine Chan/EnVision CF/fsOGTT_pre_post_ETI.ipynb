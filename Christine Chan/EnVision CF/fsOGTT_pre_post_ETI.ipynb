{
 "cells": [
  {
   "cell_type": "raw",
   "id": "26c1ffc1-d504-4084-b5e5-71a6148f101a",
   "metadata": {
    "vscode": {
     "languageId": "raw"
    }
   },
   "source": [
    "---\n",
    "title: \"fsOGTT Pre- and Post-ETI\"\n",
    "author: \"Tim Vigers\"\n",
    "date: \"now\"\n",
    "date-format: \"MMMM D, YYYY [at] hh:mm a\"\n",
    "format:\n",
    "  html:\n",
    "    toc: true\n",
    "    toc-depth: 5\n",
    "    toc-float: true\n",
    "    code-fold: true\n",
    "    self-contained: true\n",
    "    fig-cap-location: top\n",
    "    page-layout: full\n",
    "jupyter: python3\n",
    "---"
   ]
  },
  {
   "cell_type": "code",
   "execution_count": null,
   "id": "7ee00fe7-3c16-4a01-be97-091fd70ff8a7",
   "metadata": {
    "panel-layout": {
     "height": 0,
     "visible": true,
     "width": 100
    }
   },
   "outputs": [],
   "source": [
    "# | message: false\n",
    "# Libraries\n",
    "import os\n",
    "import pandas as pd\n",
    "import seaborn as sns\n",
    "import statsmodels.api as sm\n",
    "import statsmodels.formula.api as smf\n",
    "import matplotlib.pyplot as plt\n",
    "# Set working directory\n",
    "os.chdir(\n",
    "    \"/Users/tim/Library/CloudStorage/OneDrive-TheUniversityofColoradoDenver/\"\n",
    "    + \"Vigers/CF/Christine Chan/EnVision CF\"\n",
    ")\n",
    "# Import data\n",
    "df = pd.read_csv(\"Data_Clean/fsOGTT_pre_post_ETI.csv\")"
   ]
  },
  {
   "cell_type": "code",
   "execution_count": null,
   "id": "b39fa9f2",
   "metadata": {},
   "outputs": [],
   "source": [
    "# | include: false\n",
    "# EDA report\n",
    "# from ydata_profiling import ProfileReport\n",
    "# # Everyone\n",
    "# profile = ProfileReport(df, title=\"fsOGTT Pre- and Post-ETI EDA (All Participants)\")\n",
    "# profile.to_file(\"Reports/fsOGTT Pre- and Post-ETI EDA (All Participants).html\")\n",
    "# # Just those with multiple pre-ETI visits\n",
    "# visit_counts = df.groupby([\"study_id\"]).value_counts([\"pre_post\"])\n",
    "# visit_counts = visit_counts[\n",
    "#     (visit_counts.index.get_level_values(\"pre_post\") == \"Pre\") & (visit_counts >= 2)\n",
    "# ]\n",
    "# visit_counts = visit_counts.index.get_level_values(\"study_id\").to_list()\n",
    "# multiple_pre = df.loc[(df.study_id.isin(visit_counts)), :]\n",
    "# profile = ProfileReport(multiple_pre, title=\"fsOGTT Pre- and Post-ETI EDA (Multiple Pre-ETI Visits)\")\n",
    "# profile.to_file(\"Reports/fsOGTT Pre- and Post-ETI EDA (Multiple Pre-ETI Visits).html\")"
   ]
  },
  {
   "cell_type": "markdown",
   "id": "b6759217",
   "metadata": {},
   "source": [
    "# Oral Disposition Index (Insulin)"
   ]
  },
  {
   "cell_type": "code",
   "execution_count": null,
   "id": "a02aad2e",
   "metadata": {},
   "outputs": [],
   "source": [
    "odi_plot = sns.relplot(\n",
    "    data=df, x=\"days_from_eti_start\", y=\"odi\", hue=\"study_id\", kind=\"line\", legend=False\n",
    ")\n",
    "odi_plot.set(xlabel=\"Days From ETI Start\", ylabel=\"Oral Disposition Index (Insulin)\")\n",
    "plt.show()"
   ]
  },
  {
   "cell_type": "code",
   "execution_count": null,
   "id": "49623c8f",
   "metadata": {},
   "outputs": [],
   "source": [
    "md = smf.mixedlm(\n",
    "    \"odi ~ days_from_eti_start + slope_change\",\n",
    "    df,\n",
    "    groups=df[\"study_id\"],\n",
    "    missing=\"drop\",\n",
    ")\n",
    "mdf = md.fit()\n",
    "print(mdf.summary())"
   ]
  },
  {
   "cell_type": "markdown",
   "id": "bdf29a62",
   "metadata": {},
   "source": [
    "# HOMA-IR"
   ]
  },
  {
   "cell_type": "code",
   "execution_count": null,
   "id": "c58db311",
   "metadata": {},
   "outputs": [],
   "source": [
    "homa_plot = sns.relplot(\n",
    "    data=df,\n",
    "    x=\"days_from_eti_start\",\n",
    "    y=\"homa_ir\",\n",
    "    hue=\"study_id\",\n",
    "    kind=\"line\",\n",
    "    legend=False,\n",
    ")\n",
    "homa_plot.set(xlabel=\"Days From ETI Start\", ylabel=\"HOMA-IR\")\n",
    "plt.show()"
   ]
  },
  {
   "cell_type": "code",
   "execution_count": null,
   "id": "05354dec",
   "metadata": {},
   "outputs": [],
   "source": [
    "md = smf.mixedlm(\n",
    "    \"homa_ir ~ days_from_eti_start + slope_change\",\n",
    "    df,\n",
    "    groups=df[\"study_id\"],\n",
    "    missing=\"drop\",\n",
    ")\n",
    "mdf = md.fit()\n",
    "print(mdf.summary())"
   ]
  },
  {
   "cell_type": "markdown",
   "id": "487801fe",
   "metadata": {},
   "source": [
    "# Matsuda"
   ]
  },
  {
   "cell_type": "code",
   "execution_count": null,
   "id": "91ae4f40",
   "metadata": {},
   "outputs": [],
   "source": [
    "matsuda_plot = sns.relplot(\n",
    "    data=df,\n",
    "    x=\"days_from_eti_start\",\n",
    "    y=\"matsuda\",\n",
    "    hue=\"study_id\",\n",
    "    kind=\"line\",\n",
    "    legend=False,\n",
    ")\n",
    "homa_plot.set(xlabel=\"Days From ETI Start\", ylabel=\"Matsuda\")\n",
    "plt.show()"
   ]
  },
  {
   "cell_type": "code",
   "execution_count": null,
   "id": "78902bd3",
   "metadata": {},
   "outputs": [],
   "source": [
    "md = smf.mixedlm(\n",
    "    \"matsuda ~ days_from_eti_start + slope_change\",\n",
    "    df,\n",
    "    groups=df[\"study_id\"],\n",
    "    missing=\"drop\",\n",
    ")\n",
    "mdf = md.fit()\n",
    "print(mdf.summary())"
   ]
  }
 ],
 "metadata": {
  "kernelspec": {
   "display_name": "Python 3",
   "language": "python",
   "name": "python3"
  },
  "language_info": {
   "codemirror_mode": {
    "name": "ipython",
    "version": 3
   },
   "file_extension": ".py",
   "mimetype": "text/x-python",
   "name": "python",
   "nbconvert_exporter": "python",
   "pygments_lexer": "ipython3",
   "version": "3.13.7"
  },
  "panel-cell-order": [
   "7ee00fe7-3c16-4a01-be97-091fd70ff8a7"
  ]
 },
 "nbformat": 4,
 "nbformat_minor": 5
}
