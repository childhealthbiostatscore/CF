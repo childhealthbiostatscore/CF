{
 "cells": [
  {
   "cell_type": "raw",
   "id": "e1008ca1-6315-4459-9a34-f2bdc3ae25b4",
   "metadata": {},
   "source": [
    "---\n",
    "title: \"Title\"\n",
    "author: \"Tim Vigers\"\n",
    "format:\n",
    "  html:\n",
    "    self-contained: true\n",
    "    code-fold: true\n",
    "jupyter: python3\n",
    "---"
   ]
  },
  {
   "cell_type": "code",
   "execution_count": 1,
   "id": "1db2e7e0-c8eb-4a95-a30d-35aba0c7c734",
   "metadata": {},
   "outputs": [],
   "source": [
    "import pandas as pd\n",
    "wd = \"/Volumes/PEDS/RI Biostatistics Core/Shared/Shared Projects/Laura/Peds Endo/Christine Chan/CF registry data/\""
   ]
  },
  {
   "cell_type": "code",
   "execution_count": 2,
   "id": "36266cc0-46d0-449b-bd25-900a38645abf",
   "metadata": {},
   "outputs": [],
   "source": [
    "df = pd.read_csv(wd+\"CFF19_encountersMerged_Del1.csv\")"
   ]
  },
  {
   "cell_type": "code",
   "execution_count": 3,
   "id": "0715e913-3289-4baa-a368-376c4f9fa9f5",
   "metadata": {},
   "outputs": [
    {
     "data": {
      "text/plain": [
       "(2272173, 162)"
      ]
     },
     "execution_count": 3,
     "metadata": {},
     "output_type": "execute_result"
    }
   ],
   "source": [
    "df.shape"
   ]
  },
  {
   "cell_type": "code",
   "execution_count": 4,
   "id": "84f96c4c-33fc-44a1-9a8c-e9873b891c9a",
   "metadata": {},
   "outputs": [
    {
     "data": {
      "text/plain": [
       "Index(['eDWID', 'reviewyear', 'encounterid', 'program', 'encounternum',\n",
       "       'encounterlocation', 'height', 'htpct_zscore', 'WHO_HeightPercentile',\n",
       "       'weight',\n",
       "       ...\n",
       "       'alkalinephos', 'totalbilirubin', 'rand_bloodglucose',\n",
       "       'fast_bloodglucose', 'ogttfast_bloodglucose', 'twohour_bloodglucose',\n",
       "       'hgba1c', 'fecal_elas_value', 'liver_enzymes_drawn', 'act_secondary6'],\n",
       "      dtype='object', length=162)"
      ]
     },
     "execution_count": 4,
     "metadata": {},
     "output_type": "execute_result"
    }
   ],
   "source": [
    "df.columns"
   ]
  },
  {
   "cell_type": "code",
   "execution_count": null,
   "id": "ed860949-6059-4158-a381-cad36d243e2d",
   "metadata": {},
   "outputs": [],
   "source": []
  }
 ],
 "metadata": {
  "kernelspec": {
   "display_name": "Python 3 (ipykernel)",
   "language": "python",
   "name": "python3"
  },
  "language_info": {
   "codemirror_mode": {
    "name": "ipython",
    "version": 3
   },
   "file_extension": ".py",
   "mimetype": "text/x-python",
   "name": "python",
   "nbconvert_exporter": "python",
   "pygments_lexer": "ipython3",
   "version": "3.10.5"
  }
 },
 "nbformat": 4,
 "nbformat_minor": 5
}
