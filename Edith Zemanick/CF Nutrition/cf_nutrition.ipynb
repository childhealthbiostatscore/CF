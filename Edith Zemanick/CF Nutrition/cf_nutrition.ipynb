{
 "cells": [
  {
   "cell_type": "markdown",
   "metadata": {},
   "source": [
    "# CFTR Modulators and Nutrition"
   ]
  },
  {
   "cell_type": "code",
   "execution_count": 227,
   "metadata": {},
   "outputs": [],
   "source": [
    "import pandas as pd\n",
    "import numpy as np\n",
    "import plotnine as pn\n",
    "from tableone import TableOne\n",
    "wd = '~/Dropbox/Work/CF/'\n",
    "df = pd.read_csv(wd + 'Edith Zemanick/CF Nutrition/Data_Cleaned/analysis_dataset.csv')"
   ]
  },
  {
   "cell_type": "code",
   "execution_count": 228,
   "metadata": {},
   "outputs": [],
   "source": [
    "# Only those on effective modulators\n",
    "ivcaftor = df.loc[df['Modulator'] == 'Kalydeco','Patient ID'].unique().tolist()\n",
    "trikafta = df.loc[df['Modulator'] == 'Trikafta','Patient ID'].unique().tolist()\n",
    "on_effective = set(ivcaftor + trikafta)\n",
    "df = df.loc[df['Patient ID'].isin(on_effective),:]\n",
    "# Change others to \"none\"\n",
    "df.loc[df['Modulator'].isin(['Orkambi','Symdeko']),'Modulator'] = \"None\"\n",
    "# Before or after\n",
    "df['Before/After'] = df['Age at Test (Years)'] < df['Age at Start (years)']\n",
    "df['Before/After'].replace({True:'Before',False:'After'},inplace=True)\n",
    "# At least three annual nutritional measurements prior to first modulator start date, and \n",
    "num_values = df.groupby(['Patient ID','Before/After']).apply(lambda x: x.notnull().sum())['25OH-Vitamin D']\n",
    "two_measures = pd.DataFrame(num_values.filter(like = 'Before',axis = 0))\n",
    "two_measures = two_measures.loc[two_measures['25OH-Vitamin D'] >= 2].index.get_level_values(0)\n",
    "# At least one measurement of nutritional markers and one weight/height measurement >= three months post-modulator\n",
    "time_after = df.loc[df['Age at Test (Years)'] == df['Age at Start (years)'],'Patient ID']\n",
    "# Intersection\n",
    "keep = set(time_after.to_list()).intersection(two_measures.to_list())\n",
    "df = df[df['Patient ID'].isin(keep)]\n",
    "# Group by modulators\n",
    "mods = pd.DataFrame(df.loc[df['Modulator'] != \"None\"].groupby(\"Patient ID\")['Modulator'].agg(['unique']))\n",
    "mods.columns = ['Group']\n",
    "df = df.merge(mods,on=['Patient ID'])\n",
    "df['First Modulator'] = [l.tolist()[0] for l in df['Group']]\n",
    "df['Group'] = ['/'.join(map(str, l)) for l in df['Group']]\n",
    "# Genotype group\n",
    "geno = pd.read_excel(wd+'CF Info/Sweat Tests from Internal Database_genotype class.xlsx',usecols=['PatientID','genoRisk'])\n",
    "df = df.merge(geno,left_on=['Patient ID'],right_on=['PatientID'])\n",
    "# Demographics\n",
    "demo = pd.DataFrame(df.groupby('Patient ID').first())"
   ]
  },
  {
   "cell_type": "markdown",
   "metadata": {},
   "source": [
    "# Table 1: Participant Characteristics"
   ]
  },
  {
   "cell_type": "code",
   "execution_count": 229,
   "metadata": {},
   "outputs": [
    {
     "name": "stderr",
     "output_type": "stream",
     "text": [
      "/opt/homebrew/lib/python3.9/site-packages/tableone/tableone.py:991: FutureWarning: Using the level keyword in DataFrame and Series aggregations is deprecated and will be removed in a future version. Use groupby instead. df.sum(level=1) should use df.groupby(level=1).sum().\n",
      "/opt/homebrew/lib/python3.9/site-packages/tableone/tableone.py:991: FutureWarning: Using the level keyword in DataFrame and Series aggregations is deprecated and will be removed in a future version. Use groupby instead. df.sum(level=1) should use df.groupby(level=1).sum().\n",
      "/opt/homebrew/lib/python3.9/site-packages/tableone/tableone.py:991: FutureWarning: Using the level keyword in DataFrame and Series aggregations is deprecated and will be removed in a future version. Use groupby instead. df.sum(level=1) should use df.groupby(level=1).sum().\n"
     ]
    },
    {
     "data": {
      "text/html": [
       "<div>\n",
       "<style scoped>\n",
       "    .dataframe tbody tr th:only-of-type {\n",
       "        vertical-align: middle;\n",
       "    }\n",
       "\n",
       "    .dataframe tbody tr th {\n",
       "        vertical-align: top;\n",
       "    }\n",
       "\n",
       "    .dataframe thead tr th {\n",
       "        text-align: left;\n",
       "    }\n",
       "</style>\n",
       "<table border=\"1\" class=\"dataframe\">\n",
       "  <thead>\n",
       "    <tr>\n",
       "      <th></th>\n",
       "      <th></th>\n",
       "      <th colspan=\"4\" halign=\"left\">Grouped by First Modulator</th>\n",
       "    </tr>\n",
       "    <tr>\n",
       "      <th></th>\n",
       "      <th></th>\n",
       "      <th>Missing</th>\n",
       "      <th>Overall</th>\n",
       "      <th>Kalydeco</th>\n",
       "      <th>Trikafta</th>\n",
       "    </tr>\n",
       "  </thead>\n",
       "  <tbody>\n",
       "    <tr>\n",
       "      <th>n</th>\n",
       "      <th></th>\n",
       "      <td></td>\n",
       "      <td>57</td>\n",
       "      <td>9</td>\n",
       "      <td>48</td>\n",
       "    </tr>\n",
       "    <tr>\n",
       "      <th>Age at Start (years), mean (SD)</th>\n",
       "      <th></th>\n",
       "      <td>0</td>\n",
       "      <td>10.3 (2.6)</td>\n",
       "      <td>11.5 (3.4)</td>\n",
       "      <td>10.1 (2.5)</td>\n",
       "    </tr>\n",
       "    <tr>\n",
       "      <th rowspan=\"2\" valign=\"top\">Sex, n (%)</th>\n",
       "      <th>Female</th>\n",
       "      <td>1</td>\n",
       "      <td>25 (44.6)</td>\n",
       "      <td>3 (33.3)</td>\n",
       "      <td>22 (46.8)</td>\n",
       "    </tr>\n",
       "    <tr>\n",
       "      <th>Male</th>\n",
       "      <td></td>\n",
       "      <td>31 (55.4)</td>\n",
       "      <td>6 (66.7)</td>\n",
       "      <td>25 (53.2)</td>\n",
       "    </tr>\n",
       "    <tr>\n",
       "      <th rowspan=\"2\" valign=\"top\">genoRisk, n (%)</th>\n",
       "      <th>High</th>\n",
       "      <td>10</td>\n",
       "      <td>43 (91.5)</td>\n",
       "      <td>4 (50.0)</td>\n",
       "      <td>39 (100.0)</td>\n",
       "    </tr>\n",
       "    <tr>\n",
       "      <th>Low</th>\n",
       "      <td></td>\n",
       "      <td>4 (8.5)</td>\n",
       "      <td>4 (50.0)</td>\n",
       "      <td></td>\n",
       "    </tr>\n",
       "  </tbody>\n",
       "</table>\n",
       "</div><br />"
      ],
      "text/plain": [
       "                                       Grouped by First Modulator                                    \n",
       "                                                          Missing     Overall    Kalydeco    Trikafta\n",
       "n                                                                          57           9          48\n",
       "Age at Start (years), mean (SD)                                 0  10.3 (2.6)  11.5 (3.4)  10.1 (2.5)\n",
       "Sex, n (%)                      Female                          1   25 (44.6)    3 (33.3)   22 (46.8)\n",
       "                                Male                                31 (55.4)    6 (66.7)   25 (53.2)\n",
       "genoRisk, n (%)                 High                           10   43 (91.5)    4 (50.0)  39 (100.0)\n",
       "                                Low                                   4 (8.5)    4 (50.0)            "
      ]
     },
     "execution_count": 229,
     "metadata": {},
     "output_type": "execute_result"
    }
   ],
   "source": [
    "columns = ['Age at Start (years)','Sex','genoRisk']\n",
    "categorical = ['Sex','genoRisk']\n",
    "groupby = 'First Modulator'\n",
    "TableOne(demo, columns, categorical, groupby)"
   ]
  },
  {
   "cell_type": "code",
   "execution_count": 217,
   "metadata": {},
   "outputs": [
    {
     "data": {
      "text/plain": [
       "0        Symdeko\n",
       "1        Symdeko\n",
       "2        Symdeko\n",
       "3        Symdeko\n",
       "4        Symdeko\n",
       "          ...   \n",
       "4347    Trikafta\n",
       "4348    Trikafta\n",
       "4349    Trikafta\n",
       "4350    Trikafta\n",
       "4351    Trikafta\n",
       "Name: First Modulator, Length: 4352, dtype: object"
      ]
     },
     "execution_count": 217,
     "metadata": {},
     "output_type": "execute_result"
    }
   ],
   "source": [
    "df[]"
   ]
  },
  {
   "cell_type": "code",
   "execution_count": 189,
   "metadata": {},
   "outputs": [
    {
     "data": {
      "text/plain": [
       "0       [Symdeko, Trikafta]\n",
       "1       [Symdeko, Trikafta]\n",
       "2       [Symdeko, Trikafta]\n",
       "3       [Symdeko, Trikafta]\n",
       "4       [Symdeko, Trikafta]\n",
       "               ...         \n",
       "4347             [Trikafta]\n",
       "4348             [Trikafta]\n",
       "4349             [Trikafta]\n",
       "4350             [Trikafta]\n",
       "4351             [Trikafta]\n",
       "Name: Group, Length: 4352, dtype: object"
      ]
     },
     "execution_count": 189,
     "metadata": {},
     "output_type": "execute_result"
    }
   ],
   "source": [
    "df['Group']"
   ]
  },
  {
   "cell_type": "code",
   "execution_count": 204,
   "metadata": {},
   "outputs": [
    {
     "data": {
      "text/plain": [
       "\"['Symdeko', 'Trikafta']\""
      ]
     },
     "execution_count": 204,
     "metadata": {},
     "output_type": "execute_result"
    }
   ],
   "source": [
    "g.tolist()"
   ]
  },
  {
   "cell_type": "code",
   "execution_count": null,
   "metadata": {},
   "outputs": [],
   "source": []
  }
 ],
 "metadata": {
  "interpreter": {
   "hash": "7812ea015bdcee6f23a998adcdd2ef97c151c0c241b7b7070987d9313e41299d"
  },
  "kernelspec": {
   "display_name": "Python 3.9.10 64-bit",
   "language": "python",
   "name": "python3"
  },
  "language_info": {
   "codemirror_mode": {
    "name": "ipython",
    "version": 3
   },
   "file_extension": ".py",
   "mimetype": "text/x-python",
   "name": "python",
   "nbconvert_exporter": "python",
   "pygments_lexer": "ipython3",
   "version": "3.9.12"
  },
  "orig_nbformat": 4
 },
 "nbformat": 4,
 "nbformat_minor": 2
}
