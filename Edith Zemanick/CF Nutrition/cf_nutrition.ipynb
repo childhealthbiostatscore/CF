{
 "cells": [
  {
   "cell_type": "markdown",
   "metadata": {},
   "source": [
    "# CFTR Modulators and Nutrition"
   ]
  },
  {
   "cell_type": "code",
   "execution_count": null,
   "metadata": {},
   "outputs": [],
   "source": [
    "import pandas as pd\n",
    "import seaborn as sns\n",
    "wd = '/Volumes/PEDS/RI Biostatistics Core/Shared/Shared Projects/Vigers/CF/Edith Zemanick/CF Nutrition/'\n",
    "df = pd.read_csv(wd + 'Data_Cleaned/analysis_dataset.csv')"
   ]
  },
  {
   "cell_type": "markdown",
   "metadata": {},
   "source": [
    "## Plots"
   ]
  },
  {
   "cell_type": "code",
   "execution_count": null,
   "metadata": {},
   "outputs": [],
   "source": [
    "# Only those on effective modulators\n",
    "ivcaftor = df.loc[df['Modulator'] == 'Kalydeco','Patient ID'].unique().tolist()\n",
    "trikafta = df.loc[df['Modulator'] == 'Trikafta','Patient ID'].unique().tolist()\n",
    "on_effective = set(ivcaftor + trikafta)\n",
    "df = df.loc[df['Patient ID'].isin(on_effective),:]\n",
    "# Start date\n",
    "df.groupby('Patient ID').apply(lambda s:)"
   ]
  },
  {
   "cell_type": "code",
   "execution_count": null,
   "metadata": {},
   "outputs": [],
   "source": [
    "df.columns"
   ]
  },
  {
   "cell_type": "code",
   "execution_count": null,
   "metadata": {},
   "outputs": [],
   "source": [
    "# At least three annual nutritional measurements prior to first modulator start date, and at least one measurement of nutritional markers and one weight/height measurement >= three months post-modulator\n",
    "\n",
    "df = df[df['Patient ID'].isin(on_effective)]\n",
    "# Before or after\n",
    "df['Before/After'] = df['Age at Test (Years)'] < df['Age at Start (years)']\n",
    "df['Before/After'].replace({True:'Before',False:'After'},inplace=True)\n",
    "# Find those matching above criteria"
   ]
  },
  {
   "cell_type": "code",
   "execution_count": null,
   "metadata": {},
   "outputs": [],
   "source": []
  }
 ],
 "metadata": {
  "interpreter": {
   "hash": "7812ea015bdcee6f23a998adcdd2ef97c151c0c241b7b7070987d9313e41299d"
  },
  "kernelspec": {
   "display_name": "Python 3.9.10 64-bit",
   "language": "python",
   "name": "python3"
  },
  "language_info": {
   "codemirror_mode": {
    "name": "ipython",
    "version": 3
   },
   "file_extension": ".py",
   "mimetype": "text/x-python",
   "name": "python",
   "nbconvert_exporter": "python",
   "pygments_lexer": "ipython3",
   "version": "3.9.10"
  },
  "orig_nbformat": 4
 },
 "nbformat": 4,
 "nbformat_minor": 2
}
