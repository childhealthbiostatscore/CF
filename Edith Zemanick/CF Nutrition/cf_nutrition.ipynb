{
 "cells": [
  {
   "cell_type": "markdown",
   "metadata": {},
   "source": [
    "# CFTR Modulators and Nutrition"
   ]
  },
  {
   "cell_type": "code",
   "execution_count": 351,
   "metadata": {},
   "outputs": [],
   "source": [
    "import pandas as pd\n",
    "import numpy as np\n",
    "import plotnine as pn\n",
    "from tableone import TableOne\n",
    "wd = '~/Dropbox/Work/CF/'\n",
    "df = pd.read_csv(wd + 'Edith Zemanick/CF Nutrition/Data_Cleaned/analysis_dataset.csv')"
   ]
  },
  {
   "cell_type": "code",
   "execution_count": 352,
   "metadata": {},
   "outputs": [],
   "source": [
    "# Only those on effective modulators\n",
    "ivcaftor = df.loc[df['Modulator'] == 'Kalydeco','Patient ID'].unique().tolist()\n",
    "trikafta = df.loc[df['Modulator'] == 'Trikafta','Patient ID'].unique().tolist()\n",
    "on_effective = set(ivcaftor + trikafta)\n",
    "df = df.loc[df['Patient ID'].isin(on_effective),:]\n",
    "# Change others to \"none\"\n",
    "df.loc[df['Modulator'].isin(['Orkambi','Symdeko']),'Modulator'] = \"None\"\n",
    "# Before or after\n",
    "df['Before/After'] = df['Age at Test (Years)'] < df['Age at Start (years)']\n",
    "df['Before/After'].replace({True:'Before',False:'After'},inplace=True)\n",
    "# Count number of measures \n",
    "num_values = pd.DataFrame(df.groupby(['Patient ID','Before/After']).apply(lambda x: x.notnull().sum())['25OH-Vitamin D'])\n",
    "two_measures = pd.DataFrame(num_values.filter(like = 'Before',axis = 0))\n",
    "num_values.columns = ['Vitamin Measures']\n",
    "num_values.reset_index(inplace=True)\n",
    "num_values = num_values.pivot(index='Patient ID',columns='Before/After', values='Vitamin Measures')\n",
    "num_values.reset_index(inplace=True)\n",
    "num_values.columns = ['Patient ID', 'Vit. Measures After', 'Vit. Measures Before']\n",
    "df = df.merge(num_values,on=['Patient ID'])\n",
    "# At least two annual nutritional measurements prior to first modulator start date\n",
    "two_measures = two_measures.loc[two_measures['25OH-Vitamin D'] >= 2].index.get_level_values(0)\n",
    "# At least one measurement of nutritional markers and one weight/height measurement >= three months post-modulator\n",
    "time_after = df.loc[(df['Age at Test (Years)'] >= (df['Age at Start (years)']+0.25)) & (df['25OH-Vitamin D'].notnull()),'Patient ID']\n",
    "# Intersection\n",
    "keep = set(time_after.to_list()).intersection(two_measures.to_list())\n",
    "df = df[df['Patient ID'].isin(keep)]\n",
    "# Group by modulators\n",
    "mods = pd.DataFrame(df.loc[df['Modulator'] != \"None\"].groupby(\"Patient ID\")['Modulator'].agg(['unique']))\n",
    "mods.columns = ['Group']\n",
    "df = df.merge(mods,on=['Patient ID'])\n",
    "df['First Modulator'] = [l.tolist()[0] for l in df['Group']]\n",
    "# Genotype group\n",
    "geno = pd.read_excel(wd+'CF Info/Sweat Tests from Internal Database_genotype class.xlsx',usecols=['PatientID','genoRisk'])\n",
    "geno.columns = ['Patient ID','genoRisk']\n",
    "df = df.merge(geno,on=['Patient ID'])\n",
    "# Time prior to first modulator\n",
    "df['Years to Start'] = df['Age at Test (Years)'] - df['Age at Start (years)']\n",
    "years = pd.DataFrame(df[['Patient ID','Before/After','Years to Start']].groupby(['Patient ID','Before/After']).apply(lambda x: abs(x).max())['Years to Start'])\n",
    "years.reset_index(inplace=True)\n",
    "years = years.pivot(index='Patient ID',columns='Before/After', values='Years to Start')\n",
    "years.reset_index(inplace=True)\n",
    "years.columns = ['Patient ID', 'Max. Years From Start', 'Max. Years to Start']\n",
    "df = df.merge(years,on=['Patient ID'])\n",
    "# Demographics\n",
    "demo = pd.DataFrame(df.groupby('Patient ID').first())"
   ]
  },
  {
   "cell_type": "markdown",
   "metadata": {},
   "source": [
    "# Table 1: Participant Characteristics"
   ]
  },
  {
   "cell_type": "code",
   "execution_count": 353,
   "metadata": {},
   "outputs": [
    {
     "name": "stderr",
     "output_type": "stream",
     "text": [
      "/opt/homebrew/lib/python3.9/site-packages/tableone/tableone.py:991: FutureWarning: Using the level keyword in DataFrame and Series aggregations is deprecated and will be removed in a future version. Use groupby instead. df.sum(level=1) should use df.groupby(level=1).sum().\n",
      "/opt/homebrew/lib/python3.9/site-packages/tableone/tableone.py:991: FutureWarning: Using the level keyword in DataFrame and Series aggregations is deprecated and will be removed in a future version. Use groupby instead. df.sum(level=1) should use df.groupby(level=1).sum().\n",
      "/opt/homebrew/lib/python3.9/site-packages/tableone/tableone.py:991: FutureWarning: Using the level keyword in DataFrame and Series aggregations is deprecated and will be removed in a future version. Use groupby instead. df.sum(level=1) should use df.groupby(level=1).sum().\n"
     ]
    },
    {
     "data": {
      "text/html": [
       "<div>\n",
       "<style scoped>\n",
       "    .dataframe tbody tr th:only-of-type {\n",
       "        vertical-align: middle;\n",
       "    }\n",
       "\n",
       "    .dataframe tbody tr th {\n",
       "        vertical-align: top;\n",
       "    }\n",
       "\n",
       "    .dataframe thead tr th {\n",
       "        text-align: left;\n",
       "    }\n",
       "</style>\n",
       "<table border=\"1\" class=\"dataframe\">\n",
       "  <thead>\n",
       "    <tr>\n",
       "      <th></th>\n",
       "      <th></th>\n",
       "      <th colspan=\"4\" halign=\"left\">Grouped by First Modulator</th>\n",
       "    </tr>\n",
       "    <tr>\n",
       "      <th></th>\n",
       "      <th></th>\n",
       "      <th>Missing</th>\n",
       "      <th>Overall</th>\n",
       "      <th>Kalydeco</th>\n",
       "      <th>Trikafta</th>\n",
       "    </tr>\n",
       "  </thead>\n",
       "  <tbody>\n",
       "    <tr>\n",
       "      <th>n</th>\n",
       "      <th></th>\n",
       "      <td></td>\n",
       "      <td>47</td>\n",
       "      <td>7</td>\n",
       "      <td>40</td>\n",
       "    </tr>\n",
       "    <tr>\n",
       "      <th>Age at Start (years), median [Q1,Q3]</th>\n",
       "      <th></th>\n",
       "      <td>0</td>\n",
       "      <td>12.9 [12.1,13.9]</td>\n",
       "      <td>12.5 [12.4,13.2]</td>\n",
       "      <td>13.0 [12.1,14.1]</td>\n",
       "    </tr>\n",
       "    <tr>\n",
       "      <th rowspan=\"2\" valign=\"top\">Sex, n (%)</th>\n",
       "      <th>Female</th>\n",
       "      <td>0</td>\n",
       "      <td>24 (51.1)</td>\n",
       "      <td>3 (42.9)</td>\n",
       "      <td>21 (52.5)</td>\n",
       "    </tr>\n",
       "    <tr>\n",
       "      <th>Male</th>\n",
       "      <td></td>\n",
       "      <td>23 (48.9)</td>\n",
       "      <td>4 (57.1)</td>\n",
       "      <td>19 (47.5)</td>\n",
       "    </tr>\n",
       "    <tr>\n",
       "      <th rowspan=\"2\" valign=\"top\">genoRisk, n (%)</th>\n",
       "      <th>High</th>\n",
       "      <td>2</td>\n",
       "      <td>40 (88.9)</td>\n",
       "      <td>4 (57.1)</td>\n",
       "      <td>36 (94.7)</td>\n",
       "    </tr>\n",
       "    <tr>\n",
       "      <th>Low</th>\n",
       "      <td></td>\n",
       "      <td>5 (11.1)</td>\n",
       "      <td>3 (42.9)</td>\n",
       "      <td>2 (5.3)</td>\n",
       "    </tr>\n",
       "    <tr>\n",
       "      <th>Vit. Measures After, median [Q1,Q3]</th>\n",
       "      <th></th>\n",
       "      <td>0</td>\n",
       "      <td>2.0 [1.0,3.0]</td>\n",
       "      <td>3.0 [2.0,3.0]</td>\n",
       "      <td>2.0 [1.0,2.2]</td>\n",
       "    </tr>\n",
       "    <tr>\n",
       "      <th>Vit. Measures Before, median [Q1,Q3]</th>\n",
       "      <th></th>\n",
       "      <td>0</td>\n",
       "      <td>5.0 [3.0,6.0]</td>\n",
       "      <td>5.0 [4.0,5.0]</td>\n",
       "      <td>5.0 [3.0,6.0]</td>\n",
       "    </tr>\n",
       "    <tr>\n",
       "      <th>Max. Years to Start, median [min,max]</th>\n",
       "      <th></th>\n",
       "      <td>0</td>\n",
       "      <td>11.9 [4.8,14.0]</td>\n",
       "      <td>11.1 [9.5,13.2]</td>\n",
       "      <td>12.0 [4.8,14.0]</td>\n",
       "    </tr>\n",
       "    <tr>\n",
       "      <th>Max. Years From Start, median [min,max]</th>\n",
       "      <th></th>\n",
       "      <td>0</td>\n",
       "      <td>1.9 [0.3,3.9]</td>\n",
       "      <td>1.9 [0.5,3.4]</td>\n",
       "      <td>1.9 [0.3,3.9]</td>\n",
       "    </tr>\n",
       "  </tbody>\n",
       "</table>\n",
       "</div><br />"
      ],
      "text/plain": [
       "                                               Grouped by First Modulator                                                      \n",
       "                                                                  Missing           Overall          Kalydeco          Trikafta\n",
       "n                                                                                        47                 7                40\n",
       "Age at Start (years), median [Q1,Q3]                                    0  12.9 [12.1,13.9]  12.5 [12.4,13.2]  13.0 [12.1,14.1]\n",
       "Sex, n (%)                              Female                          0         24 (51.1)          3 (42.9)         21 (52.5)\n",
       "                                        Male                                      23 (48.9)          4 (57.1)         19 (47.5)\n",
       "genoRisk, n (%)                         High                            2         40 (88.9)          4 (57.1)         36 (94.7)\n",
       "                                        Low                                        5 (11.1)          3 (42.9)           2 (5.3)\n",
       "Vit. Measures After, median [Q1,Q3]                                     0     2.0 [1.0,3.0]     3.0 [2.0,3.0]     2.0 [1.0,2.2]\n",
       "Vit. Measures Before, median [Q1,Q3]                                    0     5.0 [3.0,6.0]     5.0 [4.0,5.0]     5.0 [3.0,6.0]\n",
       "Max. Years to Start, median [min,max]                                   0   11.9 [4.8,14.0]   11.1 [9.5,13.2]   12.0 [4.8,14.0]\n",
       "Max. Years From Start, median [min,max]                                 0     1.9 [0.3,3.9]     1.9 [0.5,3.4]     1.9 [0.3,3.9]"
      ]
     },
     "execution_count": 353,
     "metadata": {},
     "output_type": "execute_result"
    }
   ],
   "source": [
    "columns = ['Age at Start (years)','Sex','genoRisk',\\\n",
    "    'Vit. Measures After', 'Vit. Measures Before',\\\n",
    "        'Max. Years to Start', 'Max. Years From Start']\n",
    "categorical = ['Sex','genoRisk']\n",
    "groupby = 'First Modulator'\n",
    "not_normal = [c for c in columns if c not in categorical]\n",
    "min_max = [c for c in columns if \"Max.\" in c]\n",
    "TableOne(demo, columns, categorical, groupby,nonnormal = not_normal,min_max=min_max)"
   ]
  },
  {
   "cell_type": "markdown",
   "metadata": {},
   "source": [
    "# Table 2: Vitamin measures before and after modulator initiation"
   ]
  },
  {
   "cell_type": "code",
   "execution_count": 347,
   "metadata": {},
   "outputs": [],
   "source": [
    "for c in ['VitaminA_Retinol', '25OH-Vitamin D','Vitamin E Alpha', 'Vitamin E Gamma','BMI','FEV1 % pred']:\n",
    "    t = df.loc[(df[c].notnull()) & ((df['Years to Start'] < 0) | (df['Years to Start'] > 0.25))].copy()\n",
    "    t['Years Abs.'] = [abs(y) for y in t['Years to Start']]\n",
    "    t = t.loc[t.groupby(['Patient ID','Before/After'])['Years Abs.'].idxmin()]"
   ]
  },
  {
   "cell_type": "code",
   "execution_count": 348,
   "metadata": {},
   "outputs": [],
   "source": [
    "c = 'VitaminA_Retinol'"
   ]
  },
  {
   "cell_type": "code",
   "execution_count": 387,
   "metadata": {},
   "outputs": [],
   "source": [
    "t = df.loc[(df[c].notnull()) & ((df['Years to Start'] < 0) | (df['Years to Start'] > 0.25))].copy()\n",
    "t['Years Abs.'] = [abs(y) for y in t['Years to Start']]\n",
    "t = t.loc[t.groupby(['Patient ID','Before/After'])['Years Abs.'].idxmin()]"
   ]
  }
 ],
 "metadata": {
  "interpreter": {
   "hash": "7812ea015bdcee6f23a998adcdd2ef97c151c0c241b7b7070987d9313e41299d"
  },
  "kernelspec": {
   "display_name": "Python 3.9.10 64-bit",
   "language": "python",
   "name": "python3"
  },
  "language_info": {
   "codemirror_mode": {
    "name": "ipython",
    "version": 3
   },
   "file_extension": ".py",
   "mimetype": "text/x-python",
   "name": "python",
   "nbconvert_exporter": "python",
   "pygments_lexer": "ipython3",
   "version": "3.9.12"
  },
  "orig_nbformat": 4
 },
 "nbformat": 4,
 "nbformat_minor": 2
}
