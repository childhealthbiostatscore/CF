{
 "cells": [
  {
   "cell_type": "raw",
   "id": "0cecb46e-43a2-468b-8aba-b4570947c3e4",
   "metadata": {
    "pycharm": {
     "name": "#%% raw\n"
    }
   },
   "source": [
    "---\n",
    "title: \"Nurtional Markers Pre-/Post-ETI\"\n",
    "author: \"Tim Vigers\"\n",
    "format:\n",
    "  html:\n",
    "    self-contained: true\n",
    "    code-fold: true\n",
    "jupyter: python3\n",
    "---"
   ]
  },
  {
   "cell_type": "code",
   "execution_count": 1,
   "id": "ee5831d6-3e33-4838-ba38-30b8b6a5000d",
   "metadata": {
    "pycharm": {
     "name": "#%%\n"
    }
   },
   "outputs": [],
   "source": [
    "import pandas as pd\n",
    "import numpy as np\n",
    "wd = '/Users/timvigers/Documents/Work/CF/Edith Zemanick/CF Nutrition/'"
   ]
  },
  {
   "cell_type": "code",
   "execution_count": 21,
   "id": "3f2b9047-bb60-49d3-8fad-f64ab48c1028",
   "metadata": {
    "pycharm": {
     "name": "#%%\n"
    }
   },
   "outputs": [],
   "source": [
    "# Import\n",
    "# Modulator dates\n",
    "mods = pd.read_excel(wd+\"Data_Raw/Report CFTR Modulators_throughDecember2021.xlsx\")\n",
    "mods.sort_values(by=[\"Patient ID\",\"Earliest Date in Registry\"],ascending=True,inplace=True)\n",
    "# Vitamins\n",
    "vit = pd.read_excel(wd+\"Data_Raw/Report Vitamins_throughDecember2021_revised20220712.xlsx\")\n",
    "# Get modulator at each vitamin measure\n",
    "m = []\n",
    "for r in range(vit.shape[0]):\n",
    "    id = vit.iloc[r,0]\n",
    "    date = vit.iloc[r,2]\n",
    "    if id not in mods[\"Patient ID\"].unique():\n",
    "        m.append(np.nan)\n",
    "        continue\n",
    "    mod = mods.loc[mods[\"Patient ID\"] == id,:]\n",
    "    if date < mod.iloc[0,3]:\n",
    "        m.append(\"None\")\n",
    "    if mod.shape[0] == 1:\n",
    "        if date >= mod.iloc[0,3]:\n",
    "            m.append(mod.iloc[0,1])\n",
    "    if mod.shape[0] > 1:\n",
    "        if (date >= mod.iloc[0,3]) & (date < mod.iloc[1,3]):\n",
    "            m.append(mod.iloc[0,1])\n",
    "        elif date >= mod.iloc[1,3]:\n",
    "            m.append(mod.iloc[1,1])\n",
    "vit[\"Modulator\"] = m\n",
    "# Drop those without modulator info\n",
    "vit.dropna(subset=\"Modulator\",inplace=True)"
   ]
  },
  {
   "cell_type": "code",
   "execution_count": null,
   "id": "f31af332",
   "metadata": {},
   "outputs": [],
   "source": []
  }
 ],
 "metadata": {
  "kernelspec": {
   "display_name": "Python 3.10.5 64-bit",
   "language": "python",
   "name": "python3"
  },
  "language_info": {
   "codemirror_mode": {
    "name": "ipython",
    "version": 3
   },
   "file_extension": ".py",
   "mimetype": "text/x-python",
   "name": "python",
   "nbconvert_exporter": "python",
   "pygments_lexer": "ipython3",
   "version": "3.10.5"
  },
  "vscode": {
   "interpreter": {
    "hash": "aee8b7b246df8f9039afb4144a1f6fd8d2ca17a180786b69acc140d282b71a49"
   }
  }
 },
 "nbformat": 4,
 "nbformat_minor": 5
}
