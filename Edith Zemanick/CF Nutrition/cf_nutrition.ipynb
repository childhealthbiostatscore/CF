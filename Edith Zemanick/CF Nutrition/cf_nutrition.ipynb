{
 "cells": [
  {
   "cell_type": "code",
   "execution_count": 1,
   "id": "8ed11c5f-89ba-4962-9292-9664dd59b9e5",
   "metadata": {},
   "outputs": [],
   "source": [
    "import pandas as pd\n",
    "import numpy as np\n",
    "wd = '/Users/timvigers/Dropbox/Work/CF/Edith Zemanick/CF Nutrition/'"
   ]
  },
  {
   "cell_type": "code",
   "execution_count": 2,
   "id": "2de51b94",
   "metadata": {},
   "outputs": [],
   "source": [
    "# Import\n",
    "# Modulator dates\n",
    "mods = pd.read_excel(wd+\"Data_Raw/Report CFTR Modulators_throughDecember2021.xlsx\")\n",
    "mods.sort_values(by=[\"Patient ID\",\"Earliest Date in Registry\"],ascending=True,inplace=True)\n",
    "mods = mods[mods['Earliest Date in Registry'] != mods['Last Date in Registry']]\n",
    "# Vitamins\n",
    "vit = pd.read_excel(wd+\"Data_Raw/Report Vitamins_throughDecember2021_revised20220712.xlsx\")\n",
    "# Add FEV information\n",
    "fev = pd.read_excel(wd+\"Data_Raw/Report_PFTs_ThroughDecember2021.xlsx\")\n",
    "fev=fev.rename(columns = {'PatientID':'Patient ID'})\n",
    "df = pd.merge(vit,fev,how = \"outer\",on=[\"Patient ID\",\"Date\"])"
   ]
  },
  {
   "cell_type": "code",
   "execution_count": 3,
   "id": "b972c3c9-960c-42c1-9dbe-09a2b05e3eda",
   "metadata": {},
   "outputs": [],
   "source": [
    "# Get modulator at each vitamin measure\n",
    "m = []\n",
    "for r in range(df.shape[0]):\n",
    "    # Get ID\n",
    "    id = df.iloc[r,0]\n",
    "    # If no mod information, return NA\n",
    "    if id not in mods[\"Patient ID\"].unique():\n",
    "        m.append(np.nan)\n",
    "        continue\n",
    "    # Get row date\n",
    "    date = df.iloc[r,2]\n",
    "    # Get modulator dates by ID\n",
    "    mod = mods.loc[mods[\"Patient ID\"] == id,:]\n",
    "    dates = mod.iloc[:,3]\n",
    "    # Check which dates the row is after\n",
    "    after = np.where(date > dates)[0]\n",
    "    # If not after any, return no modulator\n",
    "    if after.shape[0] == 0: \n",
    "        m.append(\"None\")\n",
    "    else:\n",
    "        m.append(mod.iloc[max(after),1])\n",
    "df[\"Modulator\"] = m\n",
    "# Drop those without modulator info\n",
    "df.dropna(subset=\"Modulator\",inplace=True)\n",
    "# Write for checking\n",
    "df.to_csv(\"~/t.csv\",index=False)"
   ]
  }
 ],
 "metadata": {
  "kernelspec": {
   "display_name": "Python 3.10.5 64-bit",
   "language": "python",
   "name": "python3"
  },
  "language_info": {
   "codemirror_mode": {
    "name": "ipython",
    "version": 3
   },
   "file_extension": ".py",
   "mimetype": "text/x-python",
   "name": "python",
   "nbconvert_exporter": "python",
   "pygments_lexer": "ipython3",
   "version": "3.10.5"
  },
  "vscode": {
   "interpreter": {
    "hash": "aee8b7b246df8f9039afb4144a1f6fd8d2ca17a180786b69acc140d282b71a49"
   }
  }
 },
 "nbformat": 4,
 "nbformat_minor": 5
}
